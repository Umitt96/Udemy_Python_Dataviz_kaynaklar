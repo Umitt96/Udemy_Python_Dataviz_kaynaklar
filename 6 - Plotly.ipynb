{
 "cells": [
  {
   "cell_type": "code",
   "execution_count": 1,
   "id": "bf1a1cb6-b42b-4110-b532-c48eac9696b4",
   "metadata": {},
   "outputs": [],
   "source": [
    "import plotly.express as px\n",
    "import plotly.io as pio\n",
    "import pandas as pd\n",
    "\n",
    "pio.renderers.default = \"browser\""
   ]
  },
  {
   "cell_type": "markdown",
   "id": "c7f4fa45-66b3-49dd-8495-7e32f06a93f2",
   "metadata": {},
   "source": [
    "# Veri seti"
   ]
  },
  {
   "cell_type": "code",
   "execution_count": 3,
   "id": "4c2243be-e513-4e19-8d13-da397753baa9",
   "metadata": {},
   "outputs": [
    {
     "data": {
      "text/html": [
       "<div>\n",
       "<style scoped>\n",
       "    .dataframe tbody tr th:only-of-type {\n",
       "        vertical-align: middle;\n",
       "    }\n",
       "\n",
       "    .dataframe tbody tr th {\n",
       "        vertical-align: top;\n",
       "    }\n",
       "\n",
       "    .dataframe thead th {\n",
       "        text-align: right;\n",
       "    }\n",
       "</style>\n",
       "<table border=\"1\" class=\"dataframe\">\n",
       "  <thead>\n",
       "    <tr style=\"text-align: right;\">\n",
       "      <th></th>\n",
       "      <th>country</th>\n",
       "      <th>continent</th>\n",
       "      <th>year</th>\n",
       "      <th>lifeExp</th>\n",
       "      <th>pop</th>\n",
       "      <th>gdpPercap</th>\n",
       "      <th>iso_alpha</th>\n",
       "      <th>iso_num</th>\n",
       "    </tr>\n",
       "  </thead>\n",
       "  <tbody>\n",
       "    <tr>\n",
       "      <th>0</th>\n",
       "      <td>Afghanistan</td>\n",
       "      <td>Asia</td>\n",
       "      <td>1952</td>\n",
       "      <td>28.801</td>\n",
       "      <td>8425333</td>\n",
       "      <td>779.445314</td>\n",
       "      <td>AFG</td>\n",
       "      <td>4</td>\n",
       "    </tr>\n",
       "    <tr>\n",
       "      <th>1</th>\n",
       "      <td>Afghanistan</td>\n",
       "      <td>Asia</td>\n",
       "      <td>1957</td>\n",
       "      <td>30.332</td>\n",
       "      <td>9240934</td>\n",
       "      <td>820.853030</td>\n",
       "      <td>AFG</td>\n",
       "      <td>4</td>\n",
       "    </tr>\n",
       "    <tr>\n",
       "      <th>2</th>\n",
       "      <td>Afghanistan</td>\n",
       "      <td>Asia</td>\n",
       "      <td>1962</td>\n",
       "      <td>31.997</td>\n",
       "      <td>10267083</td>\n",
       "      <td>853.100710</td>\n",
       "      <td>AFG</td>\n",
       "      <td>4</td>\n",
       "    </tr>\n",
       "    <tr>\n",
       "      <th>3</th>\n",
       "      <td>Afghanistan</td>\n",
       "      <td>Asia</td>\n",
       "      <td>1967</td>\n",
       "      <td>34.020</td>\n",
       "      <td>11537966</td>\n",
       "      <td>836.197138</td>\n",
       "      <td>AFG</td>\n",
       "      <td>4</td>\n",
       "    </tr>\n",
       "    <tr>\n",
       "      <th>4</th>\n",
       "      <td>Afghanistan</td>\n",
       "      <td>Asia</td>\n",
       "      <td>1972</td>\n",
       "      <td>36.088</td>\n",
       "      <td>13079460</td>\n",
       "      <td>739.981106</td>\n",
       "      <td>AFG</td>\n",
       "      <td>4</td>\n",
       "    </tr>\n",
       "  </tbody>\n",
       "</table>\n",
       "</div>"
      ],
      "text/plain": [
       "       country continent  year  lifeExp       pop   gdpPercap iso_alpha  \\\n",
       "0  Afghanistan      Asia  1952   28.801   8425333  779.445314       AFG   \n",
       "1  Afghanistan      Asia  1957   30.332   9240934  820.853030       AFG   \n",
       "2  Afghanistan      Asia  1962   31.997  10267083  853.100710       AFG   \n",
       "3  Afghanistan      Asia  1967   34.020  11537966  836.197138       AFG   \n",
       "4  Afghanistan      Asia  1972   36.088  13079460  739.981106       AFG   \n",
       "\n",
       "   iso_num  \n",
       "0        4  \n",
       "1        4  \n",
       "2        4  \n",
       "3        4  \n",
       "4        4  "
      ]
     },
     "execution_count": 3,
     "metadata": {},
     "output_type": "execute_result"
    }
   ],
   "source": [
    "df = px.data.gapminder()\n",
    "df.head()"
   ]
  },
  {
   "cell_type": "markdown",
   "id": "31c455d0-2c8d-49cd-a121-6197a107790b",
   "metadata": {},
   "source": [
    "# Grafikler"
   ]
  },
  {
   "cell_type": "code",
   "execution_count": 7,
   "id": "7eb5beb3-9c44-4d1c-954d-69c673d57de1",
   "metadata": {},
   "outputs": [],
   "source": [
    "# Scatter grafiği\n",
    "fig = px.scatter(\n",
    "    df.query(\"year == 2007\"),\n",
    "    x=\"gdpPercap\", y=\"lifeExp\",\n",
    "    title=\"Kişi Başına Gelir vs Yaşam Süresi (2007)\",\n",
    "    labels={\"gdpPercap\": \"Kişi başına GSYİH\", \"lifeExp\": \"Yaşam Süresi\"},\n",
    "    size=\"pop\", hover_name=\"country\",size_max=50,\n",
    "    width=900, height=600\n",
    ")\n",
    "fig.show()"
   ]
  },
  {
   "cell_type": "code",
   "execution_count": 8,
   "id": "c075ffb2-304f-484e-9d27-2776463bd830",
   "metadata": {},
   "outputs": [],
   "source": [
    "# Line Grafiği\n",
    "fig = px.line(\n",
    "    df[df[\"country\"] == \"Turkey\"],\n",
    "    x = \"year\", y = \"lifeExp\",\n",
    "    title=\"Türkiye'nin Yıllara Göre Yaşam Süresi\",\n",
    "    labels={\"year\": \"Yıl\", \"lifeExp\": \"Yaşam Süresi\"},\n",
    "    width=900, height=600\n",
    ")\n",
    "fig.show()"
   ]
  },
  {
   "cell_type": "code",
   "execution_count": 9,
   "id": "801c1648-0db2-4e60-bfd7-42bc0df87583",
   "metadata": {},
   "outputs": [],
   "source": [
    "# Bar grafiği\n",
    "df_bar = df.query(\"year==2002\").groupby(\"continent\", as_index=False)[\"gdpPercap\"].mean()\n",
    "\n",
    "fig = px.bar(\n",
    "    df_bar,\n",
    "    x = \"continent\", y = \"gdpPercap\", color=\"continent\",\n",
    "    title=\"Kıta Bazlı Ortalama GSYİH, 2002\",\n",
    "    labels={\"gdpPercap\": \"Kişi başına GSYİH\", \"continent\": \"Kıta\"},\n",
    "    width=900, height=600\n",
    ")\n",
    "fig.show()"
   ]
  }
 ],
 "metadata": {
  "kernelspec": {
   "display_name": "Python 3 (ipykernel)",
   "language": "python",
   "name": "python3"
  },
  "language_info": {
   "codemirror_mode": {
    "name": "ipython",
    "version": 3
   },
   "file_extension": ".py",
   "mimetype": "text/x-python",
   "name": "python",
   "nbconvert_exporter": "python",
   "pygments_lexer": "ipython3",
   "version": "3.12.4"
  }
 },
 "nbformat": 4,
 "nbformat_minor": 5
}
